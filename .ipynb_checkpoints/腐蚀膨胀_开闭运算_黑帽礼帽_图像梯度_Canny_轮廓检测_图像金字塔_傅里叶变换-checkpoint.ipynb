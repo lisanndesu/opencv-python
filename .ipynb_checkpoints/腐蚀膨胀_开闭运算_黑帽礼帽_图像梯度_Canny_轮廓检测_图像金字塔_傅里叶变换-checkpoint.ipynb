{
 "cells": [
  {
   "cell_type": "markdown",
   "id": "26f28d02-93d1-4d24-b7d7-a1a47e4eef6c",
   "metadata": {},
   "source": [
    "## 形态学_腐蚀"
   ]
  },
  {
   "cell_type": "code",
   "execution_count": 1,
   "id": "314335f3-75ee-48c2-aa69-9f9c00a7c1c5",
   "metadata": {},
   "outputs": [],
   "source": [
    "import cv2\n",
    "import numpy as np\n",
    "import matplotlib.pyplot as plt#matplotlib是RGB\n",
    "%matplotlib inline"
   ]
  },
  {
   "cell_type": "code",
   "execution_count": 2,
   "id": "b6b76173-fb35-443a-b272-1e543ea293be",
   "metadata": {},
   "outputs": [],
   "source": [
    "def my_imshow(img_name, img):\n",
    "    cv2.imshow(img_name, img)\n",
    "    cv2.waitKey(0)\n",
    "    cv2.destroyAllWindows()"
   ]
  },
  {
   "cell_type": "code",
   "execution_count": 5,
   "id": "49309c08-a65a-4276-abf2-e99383fbc636",
   "metadata": {},
   "outputs": [
    {
     "name": "stdout",
     "output_type": "stream",
     "text": [
      "(354, 503, 3)\n"
     ]
    }
   ],
   "source": [
    "img = cv2.imread('data/dige.png')\n",
    "print(img.shape)\n",
    "my_imshow('img', img)"
   ]
  },
  {
   "cell_type": "code",
   "execution_count": 8,
   "id": "f18aa6d6-931e-41ee-8280-157c3937e2f4",
   "metadata": {},
   "outputs": [],
   "source": [
    "kernel = np.ones((3, 3), np.uint8)\n",
    "erosion = cv2.erode(img, kernel, iterations = 1)\n",
    "my_imshow('erosion', erosion)"
   ]
  },
  {
   "cell_type": "code",
   "execution_count": 10,
   "id": "f8998ff0-2606-4f50-b8d8-12df9c98f97d",
   "metadata": {},
   "outputs": [],
   "source": [
    "pie = cv2.imread('data/pie.png')\n",
    "my_imshow('pie', pie)"
   ]
  },
  {
   "cell_type": "code",
   "execution_count": 12,
   "id": "bf59b5b0-5901-4d12-bb88-18a8d2ae8e52",
   "metadata": {},
   "outputs": [],
   "source": [
    "kernel = np.ones((30, 30), np.uint8)\n",
    "erosion_1 = cv2.erode(pie, kernel, iterations = 1)\n",
    "erosion_2 = cv2.erode(pie, kernel, iterations = 2)\n",
    "erosion_3 = cv2.erode(pie, kernel, iterations = 3)\n",
    "\n",
    "my_imshow(\"erosions\", np.hstack((pie, erosion_1, erosion_2, erosion_3)))"
   ]
  },
  {
   "cell_type": "markdown",
   "id": "0284d8da-dbbd-4f62-b3e0-75d4a8d8593a",
   "metadata": {},
   "source": [
    "## 形态学-膨胀"
   ]
  },
  {
   "cell_type": "code",
   "execution_count": 13,
   "id": "11146804-4c31-43e4-843b-5aaad7f6a795",
   "metadata": {},
   "outputs": [],
   "source": [
    "img = cv2.imread('data/dige.png')\n",
    "my_imshow('img', img)"
   ]
  },
  {
   "cell_type": "code",
   "execution_count": 15,
   "id": "3d8c3b9c-5b87-4425-bdb4-9ae81d915869",
   "metadata": {},
   "outputs": [],
   "source": [
    "kernel = np.ones((3, 3), np.uint8)\n",
    "dige_erosion = cv2.erode(img, kernel, iterations = 1)\n",
    "\n",
    "my_imshow('dige_erosion', dige_erosion)"
   ]
  },
  {
   "cell_type": "code",
   "execution_count": 16,
   "id": "9eb1b105-666d-42bb-8404-ba615d28aa3f",
   "metadata": {},
   "outputs": [],
   "source": [
    "dige_dilate = cv2.dilate(dige_erosion, kernel, iterations = 1)\n",
    "my_imshow('dige_dilate', dige_dilate)"
   ]
  },
  {
   "cell_type": "code",
   "execution_count": 22,
   "id": "c35b4aaa-9b6d-4de6-9596-d9b21d0c30bb",
   "metadata": {},
   "outputs": [],
   "source": [
    "pie = cv2.imread('data/pie.png')\n",
    "my_imshow('pie', pie)\n",
    "kernel = np.ones((3, 3), np.uint8)\n",
    "dilate_1 = cv2.dilate(pie, kernel, iterations = 1)\n",
    "dilate_2 = cv2.dilate(pie, kernel, iterations = 2)\n",
    "dilate_3 = cv2.dilate(pie, kernel, iterations = 3)\n",
    "res = np.hstack((dilate_1, dilate_2, dilate_3))\n",
    "my_imshow('res', res)\n",
    "# my_imshow(\"dilate_1_2_3\", np.hstack((dilate_1, dilate_2, dilate_3))"
   ]
  },
  {
   "cell_type": "markdown",
   "id": "0461f96a-a230-49dc-b7c0-657b7ae05808",
   "metadata": {},
   "source": [
    "## 开运算&闭运算"
   ]
  },
  {
   "cell_type": "code",
   "execution_count": 23,
   "id": "85fdecd8-5798-484e-9d5a-b5cdb72c98ad",
   "metadata": {},
   "outputs": [],
   "source": [
    "# 开 : 先腐蚀 后膨胀\n",
    "img = cv2.imread('data/dige.png')\n",
    "\n",
    "kernel = np.ones((3, 3), np.uint8)\n",
    "opening = cv2.morphologyEx(img, cv2.MORPH_OPEN, kernel)\n",
    "\n",
    "my_imshow('opening', opening)"
   ]
  },
  {
   "cell_type": "code",
   "execution_count": 24,
   "id": "37e9ae5e-f846-48bc-93da-634bafe3193e",
   "metadata": {},
   "outputs": [],
   "source": [
    "# 闭: 先膨胀  后腐蚀\n",
    "img = cv2.imread('data/dige.png')\n",
    "kernel = np.ones((3, 3), np.uint8)\n",
    "closing = cv2.morphologyEx(img, cv2.MORPH_CLOSE, kernel)\n",
    "my_imshow('closing', closing)"
   ]
  },
  {
   "cell_type": "markdown",
   "id": "1e568af0-a6e4-48e0-acc1-dfe5a91558bd",
   "metadata": {},
   "source": [
    "## 梯度运算"
   ]
  },
  {
   "cell_type": "code",
   "execution_count": 29,
   "id": "d8237bcb-6d6c-42b1-927c-32dfc9ae0247",
   "metadata": {},
   "outputs": [],
   "source": [
    "# 梯度=膨胀减腐蚀\n",
    "pie = cv2.imread('data/pie.png')\n",
    "kernel = np.ones((7, 7), np.uint8)\n",
    "pie_dilate = cv2.dilate(pie, kernel, iterations = 1)\n",
    "pie_erosion = cv2.erode(pie, kernel, iterations = 1)\n",
    "res = np.hstack((pie, pie_dilate, pie_erosion))\n",
    "my_imshow(\"pie pie_dilate pie_erosion\", res)"
   ]
  },
  {
   "cell_type": "code",
   "execution_count": 28,
   "id": "1806be2d-ee61-4ae0-9f19-1bd1054a14e7",
   "metadata": {},
   "outputs": [],
   "source": [
    "gradient = cv2.morphologyEx(pie, cv2.MORPH_GRADIENT, kernel)\n",
    "my_imshow(\"gradient\", gradient)"
   ]
  },
  {
   "cell_type": "markdown",
   "id": "1cde989a-2a8b-4562-8470-dc76c960a12d",
   "metadata": {},
   "source": [
    "## 礼帽 & 黑帽"
   ]
  },
  {
   "cell_type": "code",
   "execution_count": 32,
   "id": "69916f8a-ee2b-48c5-adef-4996895a5e97",
   "metadata": {},
   "outputs": [],
   "source": [
    "#礼帽 = 原始输入 - 开运算\n",
    "img = cv2.imread(\"data/dige.png\")\n",
    "tophat = cv2.morphologyEx(img, cv2.MORPH_TOPHAT, kernel)\n",
    "my_imshow('tophat', tophat)"
   ]
  },
  {
   "cell_type": "code",
   "execution_count": 35,
   "id": "38083f2b-d50e-447e-85ff-922783339f88",
   "metadata": {},
   "outputs": [],
   "source": [
    "#黑帽  = 闭运算-原始输入\n",
    "img = cv2.imread('data/dige.png')\n",
    "blackhat = cv2.morphologyEx(img, cv2.MORPH_BLACKHAT, kernel)\n",
    "my_imshow(\"blackhat\", blackhat)"
   ]
  },
  {
   "cell_type": "markdown",
   "id": "7d87ebcf-3b50-4fc7-92b0-054f880b0513",
   "metadata": {},
   "source": [
    "## 图像梯度-Sobel算子"
   ]
  },
  {
   "cell_type": "code",
   "execution_count": 38,
   "id": "3ade4bc6-9326-41f8-9936-af3f1b0bdb9a",
   "metadata": {},
   "outputs": [],
   "source": [
    "img = cv2.imread('data/pie.png', cv2.IMREAD_GRAYSCALE)\n",
    "my_imshow('img', img)"
   ]
  },
  {
   "cell_type": "code",
   "execution_count": 37,
   "id": "2d879162-bde6-4668-b6cd-0df929629c51",
   "metadata": {},
   "outputs": [],
   "source": [
    "sobelx = cv2.Sobel(img, cv2.CV_64F, 1, 0, ksize=3)\n",
    "my_imshow('sobelx', sobelx)"
   ]
  },
  {
   "cell_type": "code",
   "execution_count": 39,
   "id": "6a379a5d-62a1-4c40-bfea-9a1f631523cf",
   "metadata": {},
   "outputs": [],
   "source": [
    "sobely = cv2.Sobel(img, cv2.CV_64F, 0, 1, ksize=3)\n",
    "my_imshow('sobely', sobely)"
   ]
  },
  {
   "cell_type": "code",
   "execution_count": 40,
   "id": "1c75fb2b-b371-4716-bef8-8433a75f8697",
   "metadata": {},
   "outputs": [],
   "source": [
    "sobelx = cv2.convertScaleAbs(sobelx)\n",
    "sobely = cv2.convertScaleAbs(sobely)\n",
    "my_imshow('sobelx', sobelx)\n",
    "my_imshow('sobely', sobely)"
   ]
  },
  {
   "cell_type": "code",
   "execution_count": 41,
   "id": "e08ceb36-485c-4c74-a534-f56be691b6b6",
   "metadata": {},
   "outputs": [],
   "source": [
    "# 分别计算x , y梯度后合并   , 效果更好\n",
    "sobelxy = cv2.addWeighted(sobelx, 0.5, sobely, 0.5, 0)\n",
    "my_imshow('sobelxy', sobelxy)"
   ]
  },
  {
   "cell_type": "code",
   "execution_count": 43,
   "id": "47f9b04e-3e5d-4ec3-9129-5830f3a32f83",
   "metadata": {},
   "outputs": [],
   "source": [
    "# 不建议直接计算sobelxy   效果不好\n",
    "sobelxy = cv2.Sobel(img, cv2.CV_64F, 1, 1, ksize=3)\n",
    "sobelxy = cv2.convertScaleAbs(sobelxy)\n",
    "my_imshow('sobelxy', sobelxy)"
   ]
  },
  {
   "cell_type": "code",
   "execution_count": 50,
   "id": "b6dc93e2-d9cc-4120-bc27-61d1c5c09b6c",
   "metadata": {},
   "outputs": [],
   "source": [
    "# 对lena梯度图像(Sobel算子)\n",
    "k = 3\n",
    "lena = cv2.imread('data/lena.jpg', cv2.IMREAD_GRAYSCALE)\n",
    "sobelx = cv2.Sobel(lena, cv2.CV_64F, 1, 0, ksize=k)\n",
    "sobelx = cv2.convertScaleAbs(sobelx)\n",
    "sobely = cv2.Sobel(lena, cv2.CV_64F, 0, 1, ksize=k)\n",
    "sobely = cv2.convertScaleAbs(sobely)\n",
    "sobelxy = cv2.addWeighted(sobelx, 0.5, sobely, 0.5, 0)\n",
    "my_imshow('sobelxy', sobelxy)\n"
   ]
  },
  {
   "cell_type": "code",
   "execution_count": 59,
   "id": "625395e3-e7e2-4781-a9c4-59d3999b5f8c",
   "metadata": {},
   "outputs": [],
   "source": [
    "# Scharr 算子\n",
    "scharrx = cv2.Scharr(lena, cv2.CV_64F, 1, 0)\n",
    "scharrx = cv2.convertScaleAbs(scharrx)\n",
    "scharry = cv2.Scharr(lena, cv2.CV_64F, 0, 1)\n",
    "scharry = cv2.convertScaleAbs(scharry)\n",
    "\n",
    "scharrxy = cv2.addWeighted(scharrx, 0.5, scharry, 0.5, 0)\n",
    "my_imshow('scharrxy', scharrxy)"
   ]
  },
  {
   "cell_type": "code",
   "execution_count": 60,
   "id": "082249f0-41e6-485b-98dc-bc328ac0ab05",
   "metadata": {},
   "outputs": [],
   "source": [
    "# laplacian 算子\n",
    "laplacian = cv2.Laplacian(lena, cv2.CV_64F)\n",
    "laplacian = cv2.convertScaleAbs(laplacian)\n",
    "my_imshow('laplacian', laplacian)"
   ]
  },
  {
   "cell_type": "code",
   "execution_count": 61,
   "id": "1161d801-0be0-470a-be33-9de34f9b7977",
   "metadata": {},
   "outputs": [],
   "source": [
    "sobel_scharr_laplacian = np.hstack((sobelxy, scharrxy, laplacian))\n",
    "my_imshow('sobel_scharr_laplacian', sobel_scharr_laplacian)\n",
    "# 总结: 按照线条多少/亮度/粗细:  scharr  >  sobel  > laplacian\n",
    "# 一般建议 sobel , 线条密度/亮度/粗细 都刚刚好, 比较适中 容易观察"
   ]
  },
  {
   "cell_type": "markdown",
   "id": "c55b526c-7e46-4e1b-a0ba-e4815da02ae3",
   "metadata": {},
   "source": [
    "## Canny边缘检测"
   ]
  },
  {
   "cell_type": "code",
   "execution_count": 66,
   "id": "472acff8-6deb-4b62-9392-9c4692086cc5",
   "metadata": {},
   "outputs": [
    {
     "name": "stdout",
     "output_type": "stream",
     "text": [
      "(263, 526)\n"
     ]
    }
   ],
   "source": [
    "lena = cv2.imread('data/lena.jpg', cv2.IMREAD_GRAYSCALE)\n",
    "\n",
    "v1 = cv2.Canny(lena, 80, 150)\n",
    "v2 = cv2.Canny(lena, 50, 120)\n",
    "\n",
    "res = np.hstack((v1, v2))\n",
    "print(res.shape)\n",
    "my_imshow('80_150&50_120', res)"
   ]
  },
  {
   "cell_type": "code",
   "execution_count": 67,
   "id": "d27a91ce-9268-4d69-9b18-2a24a687f80d",
   "metadata": {},
   "outputs": [],
   "source": [
    "car = cv2.imread('data/car.png', cv2.IMREAD_GRAYSCALE)\n",
    "\n",
    "v1 = cv2.Canny(car, 120, 250)\n",
    "v2 = cv2.Canny(car, 50, 100)\n",
    "res = np.hstack((v1, v2))\n",
    "my_imshow('120_250  50_100', res)"
   ]
  },
  {
   "cell_type": "markdown",
   "id": "54554a48-6189-42ea-9a63-e130ddef8a19",
   "metadata": {},
   "source": [
    "## 图像金字塔"
   ]
  },
  {
   "cell_type": "code",
   "execution_count": 68,
   "id": "c536e2e2-304a-407a-840d-c0c7cd51a66e",
   "metadata": {},
   "outputs": [
    {
     "name": "stdout",
     "output_type": "stream",
     "text": [
      "(442, 340, 3)\n"
     ]
    }
   ],
   "source": [
    "img = cv2.imread('data/AM.png')\n",
    "print(img.shape)\n",
    "my_imshow('img', img)"
   ]
  },
  {
   "cell_type": "code",
   "execution_count": 71,
   "id": "b90c3415-f47f-422a-b192-7d5556a3505f",
   "metadata": {},
   "outputs": [],
   "source": [
    "# 高斯金字塔\n",
    "up=cv2.pyrUp(img)\n",
    "down = cv2.pyrDown(img)\n",
    "upup = cv2.pyrUp(up)\n",
    "down = cv2.pyrDown(img)\n",
    "downdown = cv2.pyrDown(down)\n",
    "\n",
    "images = [img, up, down, upup, downdown]\n",
    "titles = ['img', 'up', 'down', 'upup', 'downdown']\n",
    "\n",
    "for image, title in zip(images, titles):\n",
    "    my_imshow('titles', image)"
   ]
  },
  {
   "cell_type": "code",
   "execution_count": 72,
   "id": "1c980448-cb3c-4bba-9281-f47c9cbba351",
   "metadata": {},
   "outputs": [],
   "source": [
    "# 拉普拉斯金字塔\n",
    "down_up = cv2.pyrUp(down)\n",
    "l_l = img-down_up\n",
    "my_imshow('l_l', l_l)"
   ]
  },
  {
   "cell_type": "markdown",
   "id": "a9ef1c9c-a251-40cc-8d7b-b7b772df9ec3",
   "metadata": {},
   "source": [
    "## 图像轮廓"
   ]
  },
  {
   "cell_type": "code",
   "execution_count": 80,
   "id": "1f8ec57c-6fcd-4849-944a-30aab708bad9",
   "metadata": {},
   "outputs": [],
   "source": [
    "img = cv2.imread('data/contours.png')\n",
    "gray = cv2.cvtColor(img, cv2.COLOR_BGR2GRAY)\n",
    "\n",
    "ret, thresh = cv2.threshold(gray, 127, 255, cv2.THRESH_BINARY)\n",
    "my_imshow('thresh', thresh)"
   ]
  },
  {
   "cell_type": "code",
   "execution_count": 82,
   "id": "d4340ca4-48d2-4e5d-aa14-dfd17672db19",
   "metadata": {},
   "outputs": [],
   "source": [
    "contours, hierarchy = cv2.findContours(thresh, cv2.RETR_TREE, cv2.CHAIN_APPROX_NONE)"
   ]
  },
  {
   "cell_type": "code",
   "execution_count": null,
   "id": "aa392b64-add9-4170-8d7e-15941bbbfeb7",
   "metadata": {},
   "outputs": [],
   "source": []
  }
 ],
 "metadata": {
  "kernelspec": {
   "display_name": "Python 3 (ipykernel)",
   "language": "python",
   "name": "python3"
  },
  "language_info": {
   "codemirror_mode": {
    "name": "ipython",
    "version": 3
   },
   "file_extension": ".py",
   "mimetype": "text/x-python",
   "name": "python",
   "nbconvert_exporter": "python",
   "pygments_lexer": "ipython3",
   "version": "3.8.10"
  }
 },
 "nbformat": 4,
 "nbformat_minor": 5
}
